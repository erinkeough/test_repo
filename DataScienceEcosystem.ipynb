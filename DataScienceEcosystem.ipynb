{
 "cells": [
  {
   "cell_type": "markdown",
   "id": "f641ab6b-649c-4ec0-9238-f48dafc19cee",
   "metadata": {},
   "source": [
    "# Data Science Tools and Ecosystem"
   ]
  },
  {
   "cell_type": "markdown",
   "id": "b9c273ac-f80d-41f4-bd34-0d2c8c64d238",
   "metadata": {},
   "source": [
    "## Author:\n",
    "Erin Keough"
   ]
  },
  {
   "cell_type": "markdown",
   "id": "2fc9264e-3323-4105-9d20-1a845222add3",
   "metadata": {},
   "source": [
    "In this notebook, Data Science Tools and Ecosystem are summarized."
   ]
  },
  {
   "cell_type": "markdown",
   "id": "1e476e9b-acfe-4c56-91f7-90530a21cfbd",
   "metadata": {},
   "source": [
    "**Objectives:**\n",
    "* List popular languages that data scientists use\n",
    "* List commonly used data science libraries\n",
    "* List some data science development environments\n",
    "* Evaluate simple arithmetic expressions"
   ]
  },
  {
   "cell_type": "markdown",
   "id": "3aac6dee-6176-4a3f-bd1c-9f7b87c7574b",
   "metadata": {},
   "source": [
    "Some of the popular languages that Data Scientists use are:\n",
    "1. Python\n",
    "2. R\n",
    "3. Java\n",
    "4. C++\n",
    "5. Julia"
   ]
  },
  {
   "cell_type": "markdown",
   "id": "b976fddd-e8ee-4623-b098-d74b579f6338",
   "metadata": {},
   "source": [
    "Some of the commonly used libraries used by Data Scientists include:\n",
    "1. Matplotlib\n",
    "2. NumPy\n",
    "3. Pandas\n",
    "4. Lattice\n",
    "5. ggplot2\n",
    "6. TensorFlow"
   ]
  },
  {
   "cell_type": "markdown",
   "id": "6412f164-03cc-45f2-b367-4e338727a508",
   "metadata": {},
   "source": [
    "Data Science Tools Table:\n",
    "\n",
    "| Data Science Tools |\n",
    "| ----- |\n",
    "| JupyterLab |\n",
    "| Watson Studio |\n",
    "| RStudio |"
   ]
  },
  {
   "cell_type": "markdown",
   "id": "4222dc16-fa0f-45b4-bc27-ebb0ecab03c2",
   "metadata": {},
   "source": [
    "### Below are a few examples of evaluating arithmetic expressions in Python."
   ]
  },
  {
   "cell_type": "code",
   "execution_count": 1,
   "id": "0fdef197-502e-4270-9962-5e7db161b832",
   "metadata": {},
   "outputs": [
    {
     "data": {
      "text/plain": [
       "17"
      ]
     },
     "execution_count": 1,
     "metadata": {},
     "output_type": "execute_result"
    }
   ],
   "source": [
    "# This a simple arithmetic expression to mutiply then add integers\n",
    "\n",
    "(3 * 4) + 5"
   ]
  },
  {
   "cell_type": "code",
   "execution_count": 2,
   "id": "423cbcee-3c47-4d72-ab44-efb532811249",
   "metadata": {},
   "outputs": [
    {
     "data": {
      "text/plain": [
       "3.3333333333333335"
      ]
     },
     "execution_count": 2,
     "metadata": {},
     "output_type": "execute_result"
    }
   ],
   "source": [
    "# This will convert 200 minutes to hours by diving by 60\n",
    "\n",
    "200 / 60"
   ]
  }
 ],
 "metadata": {
  "kernelspec": {
   "display_name": "Python [conda env:base] *",
   "language": "python",
   "name": "conda-base-py"
  },
  "language_info": {
   "codemirror_mode": {
    "name": "ipython",
    "version": 3
   },
   "file_extension": ".py",
   "mimetype": "text/x-python",
   "name": "python",
   "nbconvert_exporter": "python",
   "pygments_lexer": "ipython3",
   "version": "3.13.5"
  }
 },
 "nbformat": 4,
 "nbformat_minor": 5
}
